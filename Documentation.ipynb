{
 "cells": [
  {
   "cell_type": "markdown",
   "metadata": {},
   "source": [
    "# Apriori_Algorithm_From_Scratch\n",
    "\n",
    "## Tree Directory\n",
    "##### data : Has all the csv files for the stores\n",
    "##### Milestones: Has a pdf of the previous milestone documentation\n",
    "##### Screenshots: Contains screenshots/images of outputs from running the py and ipynb file and is used in the README.md file\n",
    "##### src: A source folder of a python script to generate a csv file of random transactions given store and items\n",
    "##### Aprior_Algo.ipynb: The Jupyter Notebook\n",
    "##### Documentation.ipynb: Jupyter Notebook of the creation of the README.md file\n",
    "##### Aprior_Algo.py : py script version of the algorithm\n",
    "##### LICENSE: MIT LICENSE\n",
    "#### Implementation\n",
    "* Using the concept of sets, counters, dataframes, and lambdas, loops, and well defined functions to carry out specific tasks that captures the implemention of the Apriori Algorithm from scratch. "
   ]
  },
  {
   "cell_type": "markdown",
   "metadata": {},
   "source": [
    "## Running Aprior_Algo.ipynb (Jupyter Notebook)"
   ]
  },
  {
   "cell_type": "markdown",
   "metadata": {},
   "source": [
    "##### Make sure to run the ENTIRE workbook\n",
    "![Run_All](Screenshots/Run_All.jpg)"
   ]
  },
  {
   "cell_type": "markdown",
   "metadata": {},
   "source": [
    "##### Answer the following prompts\n",
    "![prompts_ss](Screenshots/Prompts.JPG)"
   ]
  },
  {
   "cell_type": "markdown",
   "metadata": {},
   "source": [
    "##### Scroll to the end of the notebook and Viola!! You have your associations!!\n",
    "![final_associations](Screenshots/Final_Asssociation_.JPG)"
   ]
  },
  {
   "cell_type": "markdown",
   "metadata": {},
   "source": [
    "## Example (Jupyter Notebook)"
   ]
  },
  {
   "cell_type": "markdown",
   "metadata": {},
   "source": [
    "##### This will be with a different store with Best Buy, Support = 40% and Confidence = 70%"
   ]
  },
  {
   "cell_type": "markdown",
   "metadata": {},
   "source": [
    "### Screenshot 1\n",
    "![example_1](Screenshots/example_1JPG.JPG)"
   ]
  },
  {
   "cell_type": "markdown",
   "metadata": {},
   "source": [
    "### Screenshot 2\n",
    "![example-1](Screenshots/example_3_.JPG)"
   ]
  },
  {
   "cell_type": "markdown",
   "metadata": {},
   "source": [
    "# Enjoy the Aprior Algorithm 2.0"
   ]
  }
 ],
 "metadata": {
  "kernelspec": {
   "display_name": "Python 3",
   "language": "python",
   "name": "python3"
  },
  "language_info": {
   "codemirror_mode": {
    "name": "ipython",
    "version": 3
   },
   "file_extension": ".py",
   "mimetype": "text/x-python",
   "name": "python",
   "nbconvert_exporter": "python",
   "pygments_lexer": "ipython3",
   "version": "3.8.8"
  }
 },
 "nbformat": 4,
 "nbformat_minor": 4
}
