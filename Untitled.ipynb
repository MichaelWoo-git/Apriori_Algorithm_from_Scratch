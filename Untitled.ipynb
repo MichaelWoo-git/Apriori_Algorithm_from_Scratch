{
 "cells": [
  {
   "cell_type": "code",
   "execution_count": 1,
   "id": "limited-norfolk",
   "metadata": {},
   "outputs": [],
   "source": [
    "import pandas as pd\n",
    "import numpy as np"
   ]
  },
  {
   "cell_type": "code",
   "execution_count": 4,
   "id": "norwegian-skill",
   "metadata": {},
   "outputs": [
    {
     "data": {
      "text/html": [
       "<div>\n",
       "<style scoped>\n",
       "    .dataframe tbody tr th:only-of-type {\n",
       "        vertical-align: middle;\n",
       "    }\n",
       "\n",
       "    .dataframe tbody tr th {\n",
       "        vertical-align: top;\n",
       "    }\n",
       "\n",
       "    .dataframe thead th {\n",
       "        text-align: right;\n",
       "    }\n",
       "</style>\n",
       "<table border=\"1\" class=\"dataframe\">\n",
       "  <thead>\n",
       "    <tr style=\"text-align: right;\">\n",
       "      <th></th>\n",
       "      <th>transaction_id</th>\n",
       "      <th>transaction</th>\n",
       "    </tr>\n",
       "  </thead>\n",
       "  <tbody>\n",
       "    <tr>\n",
       "      <th>0</th>\n",
       "      <td>1</td>\n",
       "      <td>A Beginner’s Guide, Java: The Complete Referen...</td>\n",
       "    </tr>\n",
       "    <tr>\n",
       "      <th>1</th>\n",
       "      <td>2</td>\n",
       "      <td>A Beginner’s Guide, Java: The Complete Referen...</td>\n",
       "    </tr>\n",
       "    <tr>\n",
       "      <th>2</th>\n",
       "      <td>3</td>\n",
       "      <td>A Beginner’s Guide, Java: The Complete Referen...</td>\n",
       "    </tr>\n",
       "    <tr>\n",
       "      <th>3</th>\n",
       "      <td>4</td>\n",
       "      <td>Android Programming: The Big Nerd Ranch, Head ...</td>\n",
       "    </tr>\n",
       "    <tr>\n",
       "      <th>4</th>\n",
       "      <td>5</td>\n",
       "      <td>Android Programming: The Big Nerd Ranch, Begin...</td>\n",
       "    </tr>\n",
       "  </tbody>\n",
       "</table>\n",
       "</div>"
      ],
      "text/plain": [
       "   transaction_id                                        transaction\n",
       "0               1  A Beginner’s Guide, Java: The Complete Referen...\n",
       "1               2  A Beginner’s Guide, Java: The Complete Referen...\n",
       "2               3  A Beginner’s Guide, Java: The Complete Referen...\n",
       "3               4  Android Programming: The Big Nerd Ranch, Head ...\n",
       "4               5  Android Programming: The Big Nerd Ranch, Begin..."
      ]
     },
     "execution_count": 4,
     "metadata": {},
     "output_type": "execute_result"
    }
   ],
   "source": [
    "df= pd.read_csv(\"data/amazon_transactions.csv\")\n",
    "df.head()"
   ]
  },
  {
   "cell_type": "code",
   "execution_count": null,
   "id": "correct-fight",
   "metadata": {},
   "outputs": [],
   "source": []
  },
  {
   "cell_type": "code",
   "execution_count": 38,
   "id": "sticky-reminder",
   "metadata": {},
   "outputs": [
    {
     "data": {
      "text/plain": [
       "{'A Beginner’s Guide',\n",
       " 'Android Programming: The Big Nerd Ranch',\n",
       " 'Beginning Programming with Java',\n",
       " 'C++ Programming in Easy Steps',\n",
       " 'HTML and CSS: Design and Build Websites',\n",
       " 'Head First Java 2nd Edition',\n",
       " 'Java 8 Pocket Guide',\n",
       " 'Java For Dummies',\n",
       " 'Java: The Complete Reference'}"
      ]
     },
     "execution_count": 38,
     "metadata": {},
     "output_type": "execute_result"
    }
   ],
   "source": [
    "df_3 = np.array(df['transaction'])\n",
    "ep = set()\n",
    "for items in df_3:\n",
    "    items = items.split(\",\")\n",
    "    for ts in items:\n",
    "        ts = ts.strip()\n",
    "        #print(ts)\n",
    "        ep.add(ts)\n",
    "\n",
    "ep.remove(\"\")\n",
    "ep\n",
    "\n",
    "    \n"
   ]
  },
  {
   "cell_type": "code",
   "execution_count": 9,
   "id": "leading-nickname",
   "metadata": {},
   "outputs": [
    {
     "data": {
      "text/html": [
       "<div>\n",
       "<style scoped>\n",
       "    .dataframe tbody tr th:only-of-type {\n",
       "        vertical-align: middle;\n",
       "    }\n",
       "\n",
       "    .dataframe tbody tr th {\n",
       "        vertical-align: top;\n",
       "    }\n",
       "\n",
       "    .dataframe thead th {\n",
       "        text-align: right;\n",
       "    }\n",
       "</style>\n",
       "<table border=\"1\" class=\"dataframe\">\n",
       "  <thead>\n",
       "    <tr style=\"text-align: right;\">\n",
       "      <th></th>\n",
       "      <th>item_number</th>\n",
       "      <th>item_name</th>\n",
       "    </tr>\n",
       "  </thead>\n",
       "  <tbody>\n",
       "    <tr>\n",
       "      <th>0</th>\n",
       "      <td>1</td>\n",
       "      <td>A Beginner’s Guide</td>\n",
       "    </tr>\n",
       "    <tr>\n",
       "      <th>1</th>\n",
       "      <td>2</td>\n",
       "      <td>Java: The Complete Reference</td>\n",
       "    </tr>\n",
       "    <tr>\n",
       "      <th>2</th>\n",
       "      <td>3</td>\n",
       "      <td>Java For Dummies</td>\n",
       "    </tr>\n",
       "    <tr>\n",
       "      <th>3</th>\n",
       "      <td>4</td>\n",
       "      <td>Android Programming: The Big Nerd Ranch</td>\n",
       "    </tr>\n",
       "    <tr>\n",
       "      <th>4</th>\n",
       "      <td>5</td>\n",
       "      <td>Head First Java 2nd Edition</td>\n",
       "    </tr>\n",
       "  </tbody>\n",
       "</table>\n",
       "</div>"
      ],
      "text/plain": [
       "   item_number                                item_name\n",
       "0            1                       A Beginner’s Guide\n",
       "1            2             Java: The Complete Reference\n",
       "2            3                         Java For Dummies\n",
       "3            4  Android Programming: The Big Nerd Ranch\n",
       "4            5              Head First Java 2nd Edition"
      ]
     },
     "execution_count": 9,
     "metadata": {},
     "output_type": "execute_result"
    }
   ],
   "source": [
    "df_1 = pd.read_csv(\"data/amazon_item_names.csv\")\n",
    "df_1.head()"
   ]
  },
  {
   "cell_type": "code",
   "execution_count": 13,
   "id": "governing-proof",
   "metadata": {},
   "outputs": [
    {
     "data": {
      "text/plain": [
       "array(['A Beginner’s Guide', 'Java: The Complete Reference',\n",
       "       'Java For Dummies', 'Android Programming: The Big Nerd Ranch',\n",
       "       'Head First Java 2nd Edition', 'Beginning Programming with Java',\n",
       "       'Java 8 Pocket Guide', 'C++ Programming in Easy Steps',\n",
       "       'Effective Java (2nd Edition)',\n",
       "       'HTML and CSS: Design and Build Websites'], dtype=object)"
      ]
     },
     "execution_count": 13,
     "metadata": {},
     "output_type": "execute_result"
    }
   ],
   "source": [
    "np.array(df_1[\"item_name\"])"
   ]
  },
  {
   "cell_type": "code",
   "execution_count": null,
   "id": "prostate-nowhere",
   "metadata": {},
   "outputs": [],
   "source": []
  }
 ],
 "metadata": {
  "kernelspec": {
   "display_name": "Python 3",
   "language": "python",
   "name": "python3"
  },
  "language_info": {
   "codemirror_mode": {
    "name": "ipython",
    "version": 3
   },
   "file_extension": ".py",
   "mimetype": "text/x-python",
   "name": "python",
   "nbconvert_exporter": "python",
   "pygments_lexer": "ipython3",
   "version": "3.8.8"
  }
 },
 "nbformat": 4,
 "nbformat_minor": 5
}
