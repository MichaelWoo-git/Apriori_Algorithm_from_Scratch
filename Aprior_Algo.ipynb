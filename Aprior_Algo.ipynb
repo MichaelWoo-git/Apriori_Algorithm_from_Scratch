{
 "cells": [
  {
   "cell_type": "markdown",
   "metadata": {},
   "source": [
    "##### Imports"
   ]
  },
  {
   "cell_type": "code",
   "execution_count": 186,
   "metadata": {},
   "outputs": [],
   "source": [
    "import numpy as np\n",
    "import pandas as pd\n",
    "import os\n",
    "import time\n",
    "from itertools import permutations, combinations"
   ]
  },
  {
   "cell_type": "markdown",
   "metadata": {},
   "source": [
    "##### Prompts to choose which store you want "
   ]
  },
  {
   "cell_type": "code",
   "execution_count": 187,
   "metadata": {},
   "outputs": [
    {
     "name": "stdout",
     "output_type": "stream",
     "text": [
      "Welcome to Apriori 2.0!\n",
      "Please select your store \n",
      " 1. Amazon \n",
      " 2. Nike \n",
      " 3. Best Buy \n",
      " 4. K-Mart \n",
      " 5. Walmart\n",
      "1\n",
      "1\n",
      "Please enter the percentage of Support you want?\n",
      "40\n",
      "40\n",
      "Please enter the percentage of Confidence you want?\n",
      "40\n",
      "40\n"
     ]
    }
   ],
   "source": [
    "print(\"Welcome to Apriori 2.0!\")\n",
    "store_num = input(\"Please select your store \\n 1. Amazon \\n 2. Nike \\n 3. Best Buy \\n 4. K-Mart \\n 5. Walmart\\n\")\n",
    "print(store_num)\n",
    "support_percent = input(\"Please enter the percentage of Support you want?\\n\")\n",
    "print(support_percent)\n",
    "confidence_percent = input(\"Please enter the percentage of Confidence you want?\\n\")\n",
    "print(confidence_percent)"
   ]
  },
  {
   "cell_type": "markdown",
   "metadata": {},
   "source": [
    "##### These are my dictionaries to choose which store to get based in Key-Value Pairs"
   ]
  },
  {
   "cell_type": "code",
   "execution_count": 188,
   "metadata": {},
   "outputs": [],
   "source": [
    "def number_to_store(store_number):\n",
    "    switcher = {\n",
    "        1: \"data/amazon_transactions.csv\",\n",
    "        2: \"data/nike_transaction.csv\",\n",
    "        3: \"data/best_buy_transaction.csv\",\n",
    "        4: \"data/k_mart_transaction.csv\",\n",
    "        5: \"data/walmart_transaction.csv\"\n",
    "    }\n",
    "    return switcher.get(store_number)\n",
    "\n",
    "\n",
    "def number_to_item_list_of_store(store_number):\n",
    "    switcher_dict = {\n",
    "        1: \"data/amazon_item_names.csv\",\n",
    "        2: \"data/nike_item_names.csv\",\n",
    "        3: \"data/best_buy_item_names.csv\",\n",
    "        4: \"data/k_mart_item_names.csv\",\n",
    "        5: \"data/walmart_item_names.csv\"\n",
    "    }\n",
    "    return switcher_dict.get(store_number)"
   ]
  },
  {
   "cell_type": "markdown",
   "metadata": {},
   "source": [
    "##### We first have to read in the csv files and make sure that the inputs received from the user are valid"
   ]
  },
  {
   "cell_type": "code",
   "execution_count": 189,
   "metadata": {},
   "outputs": [],
   "source": [
    "def a_priori_read(item_list, transaction, support_percentage, confidence_percentage):\n",
    "    # Create two different functions one that is solo for read in the file data and the other that is algorithmic with the data\n",
    "    if support_percentage > 100 or confidence_percentage > 100 or support_percentage < 0 or confidence_percentage < 0:\n",
    "        print(\"Support Percent or Confidence Percent is Invalid. \\n Enter a valid number between 0 and 100.\\n\")\n",
    "        print(\"Restarting Apriori 2.0.....\\n\")\n",
    "        time.sleep(2)\n",
    "        os.system(\"python APrior_2.0.py\")\n",
    "    if support_percentage >= 0 and support_percentage <= 100 and confidence_percentage >= 0 and confidence_percentage <= 100:\n",
    "        df2 = pd.read_csv(item_list)\n",
    "        df1 = pd.read_csv(transaction)\n",
    "        print(df1.head())\n",
    "        print(df2.head())\n",
    "        trans = np.array(df1[\"transaction\"])\n",
    "        items_names = np.array(df2[\"item_name\"])\n",
    "        k_value = 1\n",
    "        return items_names, trans, support_percentage, confidence_percentage, k_value"
   ]
  },
  {
   "cell_type": "markdown",
   "metadata": {},
   "source": [
    "##### The first go around the apriori algorithm we find the items that are most frequent K = 1\n",
    "##### This is so that we can find the most frequent items in the transactions"
   ]
  },
  {
   "cell_type": "code",
   "execution_count": 190,
   "metadata": {},
   "outputs": [],
   "source": [
    "def ap_1(items_names, trans, support_percentage, confidence_percentage, k_value):\n",
    "    counter = np.zeros(len(items_names), dtype=int)\n",
    "    for i in trans:\n",
    "        i = list((map(str.strip, i.split(','))))\n",
    "        s1 = set(i)\n",
    "        nums = 0\n",
    "        for x in items_names:\n",
    "            s2 = set()\n",
    "            s2.add(x)\n",
    "            if s2.issubset(s1):\n",
    "                counter[nums] += 1\n",
    "            nums += 1\n",
    "    counter = list(map(lambda x: int((x / len(trans)) * 100), counter))\n",
    "    df3 = pd.DataFrame({\"item_name\": items_names, \"support\": counter,\"k_val\" : np.full(len(items_names),k_value)})\n",
    "    rslt_df = df3[df3['support'] >= support_percentage]\n",
    "    print(\"When K = \" + str(k_value))\n",
    "    print(rslt_df)\n",
    "    items = np.array(rslt_df[\"item_name\"])\n",
    "    support_count = np.array(rslt_df[\"support\"])\n",
    "    k_value += 1\n",
    "    return items, support_count, k_value, rslt_df"
   ]
  },
  {
   "cell_type": "markdown",
   "metadata": {},
   "source": [
    "##### Then we use this function below to find item sets that are most frequent when K > 1"
   ]
  },
  {
   "cell_type": "code",
   "execution_count": 191,
   "metadata": {},
   "outputs": [],
   "source": [
    "def ap_2(item_comb, k_value, trans, support_percentage):\n",
    "    boo = True\n",
    "    comb = combinations(item_comb, k_value)\n",
    "    comb = list(comb)\n",
    "    counter = np.zeros(len(comb), dtype=int)\n",
    "    if k_value > 1:\n",
    "        for i in trans:\n",
    "            i = list((map(str.strip, i.split(','))))\n",
    "            s1 = set(i)\n",
    "            nums = 0\n",
    "            for x in comb:\n",
    "                s2 = set()\n",
    "                x = np.asarray(x)\n",
    "                for q in x:\n",
    "                    s2.add(q)\n",
    "                if s2.issubset(s1):\n",
    "                    counter[nums] += 1\n",
    "                nums += 1\n",
    "    counter = list(map(lambda x: int((x / len(trans)) * 100), counter))\n",
    "    df3 = pd.DataFrame({\"item_name\": comb, \"support\": counter,\"k_val\":np.full(len(comb),k_value)})\n",
    "    \n",
    "    #Making sure that user parameters are met for support\n",
    "    rslt_df = df3[df3['support'] >= support_percentage]\n",
    "    print(\"When K = \" + str(k_value))\n",
    "    print(rslt_df)\n",
    "    items = np.array(rslt_df[\"item_name\"])\n",
    "    supp = np.array(rslt_df[\"support\"])\n",
    "    if len(items) == 0:\n",
    "        boo = False\n",
    "        return rslt_df, boo\n",
    "    return rslt_df, boo"
   ]
  },
  {
   "cell_type": "markdown",
   "metadata": {},
   "source": [
    "##### Calls of functions and variable saving"
   ]
  },
  {
   "cell_type": "code",
   "execution_count": 192,
   "metadata": {},
   "outputs": [
    {
     "name": "stdout",
     "output_type": "stream",
     "text": [
      "   transaction_id                                        transaction\n",
      "0               1  A Beginner’s Guide, Java: The Complete Referen...\n",
      "1               2  A Beginner’s Guide, Java: The Complete Referen...\n",
      "2               3  A Beginner’s Guide, Java: The Complete Referen...\n",
      "3               4  Android Programming: The Big Nerd Ranch, Head ...\n",
      "4               5  Android Programming: The Big Nerd Ranch, Begin...\n",
      "   item_number                                item_name\n",
      "0            1                       A Beginner’s Guide\n",
      "1            2             Java: The Complete Reference\n",
      "2            3                         Java For Dummies\n",
      "3            4  Android Programming: The Big Nerd Ranch\n",
      "4            5              Head First Java 2nd Edition\n",
      "When K = 1\n",
      "                                 item_name  support  k_val\n",
      "0                       A Beginner’s Guide       55      1\n",
      "1             Java: The Complete Reference       50      1\n",
      "2                         Java For Dummies       65      1\n",
      "3  Android Programming: The Big Nerd Ranch       65      1\n",
      "4              Head First Java 2nd Edition       40      1\n"
     ]
    }
   ],
   "source": [
    "frames = []\n",
    "items_names, trans, support_percent, confidence_percent, k_value = a_priori_read(\n",
    "    str(number_to_item_list_of_store(int(store_num))), str(number_to_store(int(store_num))),\n",
    "    int(support_percent), int(confidence_percent))\n",
    "\n",
    "items, supp, k_value, df = ap_1(items_names, trans, support_percent, confidence_percent, k_value)\n",
    "frames.append(df)\n",
    "boo = True"
   ]
  },
  {
   "cell_type": "markdown",
   "metadata": {},
   "source": [
    "##### Looping through the transactions and increasing K until we can longer support the support value"
   ]
  },
  {
   "cell_type": "code",
   "execution_count": 193,
   "metadata": {},
   "outputs": [
    {
     "name": "stdout",
     "output_type": "stream",
     "text": [
      "When K = 2\n",
      "                                           item_name  support  k_val\n",
      "0  (A Beginner’s Guide, Java: The Complete Refere...       45      2\n",
      "1             (A Beginner’s Guide, Java For Dummies)       45      2\n",
      "4   (Java: The Complete Reference, Java For Dummies)       50      2\n",
      "7  (Java For Dummies, Android Programming: The Bi...       45      2\n",
      "When K = 3\n",
      "                                           item_name  support  k_val\n",
      "0  (A Beginner’s Guide, Java: The Complete Refere...       45      3\n",
      "When K = 4\n",
      "Empty DataFrame\n",
      "Columns: [item_name, support, k_val]\n",
      "Index: []\n"
     ]
    }
   ],
   "source": [
    "while boo:\n",
    "    df_1, boo = ap_2(items, k_value, trans, support_percent)\n",
    "    frames.append(df_1)\n",
    "    k_value += 1"
   ]
  },
  {
   "cell_type": "markdown",
   "metadata": {},
   "source": [
    "##### Here asre the results after we find the most frequent sets in the list of transactions"
   ]
  },
  {
   "cell_type": "code",
   "execution_count": 194,
   "metadata": {},
   "outputs": [
    {
     "name": "stdout",
     "output_type": "stream",
     "text": [
      "results are below\n",
      "                                           item_name  support  k_val\n",
      "0                                 A Beginner’s Guide       55      1\n",
      "1                       Java: The Complete Reference       50      1\n",
      "2                                   Java For Dummies       65      1\n",
      "3            Android Programming: The Big Nerd Ranch       65      1\n",
      "4                        Head First Java 2nd Edition       40      1\n",
      "0  (A Beginner’s Guide, Java: The Complete Refere...       45      2\n",
      "1             (A Beginner’s Guide, Java For Dummies)       45      2\n",
      "4   (Java: The Complete Reference, Java For Dummies)       50      2\n",
      "7  (Java For Dummies, Android Programming: The Bi...       45      2\n",
      "0  (A Beginner’s Guide, Java: The Complete Refere...       45      3\n"
     ]
    },
    {
     "data": {
      "text/html": [
       "<div>\n",
       "<style scoped>\n",
       "    .dataframe tbody tr th:only-of-type {\n",
       "        vertical-align: middle;\n",
       "    }\n",
       "\n",
       "    .dataframe tbody tr th {\n",
       "        vertical-align: top;\n",
       "    }\n",
       "\n",
       "    .dataframe thead th {\n",
       "        text-align: right;\n",
       "    }\n",
       "</style>\n",
       "<table border=\"1\" class=\"dataframe\">\n",
       "  <thead>\n",
       "    <tr style=\"text-align: right;\">\n",
       "      <th></th>\n",
       "      <th>item_name</th>\n",
       "      <th>support</th>\n",
       "      <th>k_val</th>\n",
       "    </tr>\n",
       "  </thead>\n",
       "  <tbody>\n",
       "    <tr>\n",
       "      <th>0</th>\n",
       "      <td>A Beginner’s Guide</td>\n",
       "      <td>55</td>\n",
       "      <td>1</td>\n",
       "    </tr>\n",
       "    <tr>\n",
       "      <th>1</th>\n",
       "      <td>Java: The Complete Reference</td>\n",
       "      <td>50</td>\n",
       "      <td>1</td>\n",
       "    </tr>\n",
       "    <tr>\n",
       "      <th>2</th>\n",
       "      <td>Java For Dummies</td>\n",
       "      <td>65</td>\n",
       "      <td>1</td>\n",
       "    </tr>\n",
       "    <tr>\n",
       "      <th>3</th>\n",
       "      <td>Android Programming: The Big Nerd Ranch</td>\n",
       "      <td>65</td>\n",
       "      <td>1</td>\n",
       "    </tr>\n",
       "    <tr>\n",
       "      <th>4</th>\n",
       "      <td>Head First Java 2nd Edition</td>\n",
       "      <td>40</td>\n",
       "      <td>1</td>\n",
       "    </tr>\n",
       "  </tbody>\n",
       "</table>\n",
       "</div>"
      ],
      "text/plain": [
       "                                 item_name  support  k_val\n",
       "0                       A Beginner’s Guide       55      1\n",
       "1             Java: The Complete Reference       50      1\n",
       "2                         Java For Dummies       65      1\n",
       "3  Android Programming: The Big Nerd Ranch       65      1\n",
       "4              Head First Java 2nd Edition       40      1"
      ]
     },
     "execution_count": 194,
     "metadata": {},
     "output_type": "execute_result"
    }
   ],
   "source": [
    "print(\"results are below\")\n",
    "print(pd.concat(frames))\n",
    "df_supp = pd.concat(frames)\n",
    "df_supp.head()"
   ]
  },
  {
   "cell_type": "markdown",
   "metadata": {},
   "source": [
    "##### Reset the index just to organize it"
   ]
  },
  {
   "cell_type": "code",
   "execution_count": 195,
   "metadata": {},
   "outputs": [],
   "source": [
    "df_supp = df_supp.reset_index().drop('index',axis=1)"
   ]
  },
  {
   "cell_type": "code",
   "execution_count": 196,
   "metadata": {},
   "outputs": [
    {
     "data": {
      "text/html": [
       "<div>\n",
       "<style scoped>\n",
       "    .dataframe tbody tr th:only-of-type {\n",
       "        vertical-align: middle;\n",
       "    }\n",
       "\n",
       "    .dataframe tbody tr th {\n",
       "        vertical-align: top;\n",
       "    }\n",
       "\n",
       "    .dataframe thead th {\n",
       "        text-align: right;\n",
       "    }\n",
       "</style>\n",
       "<table border=\"1\" class=\"dataframe\">\n",
       "  <thead>\n",
       "    <tr style=\"text-align: right;\">\n",
       "      <th></th>\n",
       "      <th>item_name</th>\n",
       "      <th>support</th>\n",
       "      <th>k_val</th>\n",
       "    </tr>\n",
       "  </thead>\n",
       "  <tbody>\n",
       "    <tr>\n",
       "      <th>0</th>\n",
       "      <td>A Beginner’s Guide</td>\n",
       "      <td>55</td>\n",
       "      <td>1</td>\n",
       "    </tr>\n",
       "    <tr>\n",
       "      <th>1</th>\n",
       "      <td>Java: The Complete Reference</td>\n",
       "      <td>50</td>\n",
       "      <td>1</td>\n",
       "    </tr>\n",
       "    <tr>\n",
       "      <th>2</th>\n",
       "      <td>Java For Dummies</td>\n",
       "      <td>65</td>\n",
       "      <td>1</td>\n",
       "    </tr>\n",
       "    <tr>\n",
       "      <th>3</th>\n",
       "      <td>Android Programming: The Big Nerd Ranch</td>\n",
       "      <td>65</td>\n",
       "      <td>1</td>\n",
       "    </tr>\n",
       "    <tr>\n",
       "      <th>4</th>\n",
       "      <td>Head First Java 2nd Edition</td>\n",
       "      <td>40</td>\n",
       "      <td>1</td>\n",
       "    </tr>\n",
       "  </tbody>\n",
       "</table>\n",
       "</div>"
      ],
      "text/plain": [
       "                                 item_name  support  k_val\n",
       "0                       A Beginner’s Guide       55      1\n",
       "1             Java: The Complete Reference       50      1\n",
       "2                         Java For Dummies       65      1\n",
       "3  Android Programming: The Big Nerd Ranch       65      1\n",
       "4              Head First Java 2nd Edition       40      1"
      ]
     },
     "execution_count": 196,
     "metadata": {},
     "output_type": "execute_result"
    }
   ],
   "source": [
    "df_supp.head()"
   ]
  },
  {
   "cell_type": "markdown",
   "metadata": {},
   "source": [
    "##### Genrerating the Associations (Permutations) and calculating the confidence of the item sets "
   ]
  },
  {
   "cell_type": "code",
   "execution_count": 197,
   "metadata": {
    "scrolled": true
   },
   "outputs": [],
   "source": [
    "def confidence(val):\n",
    "    \n",
    "    #first\n",
    "    df_212 = df_supp.loc[df_supp['k_val'] == val] \n",
    "    stuff_name = np.array(df_212[\"item_name\"])\n",
    "    support_arr = np.array(df_212['support'])\n",
    "    \n",
    "    #second\n",
    "    df_temp = df_supp.loc[df_supp['k_val'] == val+1] \n",
    "    df_21231 = np.array(df_temp[\"item_name\"])\n",
    "    sup_arr = np.array(df_temp['support'])\n",
    "    \n",
    "    #variables to save\n",
    "    sup_ov = list()\n",
    "    sup_sing = list()\n",
    "    perm_item = list()\n",
    "    \n",
    "    #When the item set is k =1 and the comparison is k = 2\n",
    "    if val == 1:\n",
    "        for w in df_21231:\n",
    "            temp_list = list(df_21231)\n",
    "            ov_sup = sup_arr[temp_list.index(w)]\n",
    "            temp = set()\n",
    "            for d in w:\n",
    "                temp.add(d)\n",
    "            perm = permutations(temp)\n",
    "            perm_lst = list(perm)\n",
    "            for y in perm_lst:\n",
    "                perm_item.append(y)\n",
    "                sup_ov.append(ov_sup)\n",
    "                sup_sing.append(int(support_arr[np.where(stuff_name == y[0])]))\n",
    "    \n",
    "    #When the item set is k > 1 and the comparison is k += k + 1\n",
    "    if val > 1:    \n",
    "        for w in df_21231:\n",
    "            temp_list = list(df_21231)\n",
    "            ov_sup = sup_arr[temp_list.index(w)]\n",
    "            temp = set()\n",
    "            for d in w:\n",
    "                temp.add(d)\n",
    "            perm = permutations(temp)\n",
    "            perm_lst = list(perm)\n",
    "            for y in perm_lst:\n",
    "                try:\n",
    "                    temp_set = []\n",
    "                    for t in range(0,val):\n",
    "                        temp_set.append(y[t])\n",
    "                    lol = tuple(sorted(temp_set))\n",
    "                    tp_lst = list(stuff_name)\n",
    "                    ss = support_arr[tp_lst.index(lol)]\n",
    "                    sup_ov.append(ov_sup)\n",
    "                    sup_sing.append(ss)\n",
    "                    perm_item.append(y)\n",
    "                except:\n",
    "                    print(\"itemset below does not exist...\")\n",
    "                    print(y)\n",
    "                    sup_ov.append(ov_sup)\n",
    "                    sup_sing.append(0)\n",
    "                    perm_item.append(y)\n",
    "                    \n",
    "    df_main = pd.DataFrame({\"association\":perm_item,\"support_ov\":sup_ov,\"support_sing\":sup_sing})\n",
    "    df_main = df_main.assign(confidence = lambda x:round(((x.support_ov/x.support_sing)*100),0))\n",
    "    return df_main"
   ]
  },
  {
   "cell_type": "markdown",
   "metadata": {},
   "source": [
    "#### Finding the max k value in the given set"
   ]
  },
  {
   "cell_type": "code",
   "execution_count": 198,
   "metadata": {},
   "outputs": [
    {
     "data": {
      "text/plain": [
       "3"
      ]
     },
     "execution_count": 198,
     "metadata": {},
     "output_type": "execute_result"
    }
   ],
   "source": [
    "max(df_supp[\"k_val\"])"
   ]
  },
  {
   "cell_type": "markdown",
   "metadata": {},
   "source": [
    "#### Iterative calucating the assocations and confidence"
   ]
  },
  {
   "cell_type": "code",
   "execution_count": 200,
   "metadata": {},
   "outputs": [
    {
     "name": "stdout",
     "output_type": "stream",
     "text": [
      "1\n",
      "2\n",
      "3\n"
     ]
    },
    {
     "data": {
      "text/html": [
       "<div>\n",
       "<style scoped>\n",
       "    .dataframe tbody tr th:only-of-type {\n",
       "        vertical-align: middle;\n",
       "    }\n",
       "\n",
       "    .dataframe tbody tr th {\n",
       "        vertical-align: top;\n",
       "    }\n",
       "\n",
       "    .dataframe thead th {\n",
       "        text-align: right;\n",
       "    }\n",
       "</style>\n",
       "<table border=\"1\" class=\"dataframe\">\n",
       "  <thead>\n",
       "    <tr style=\"text-align: right;\">\n",
       "      <th></th>\n",
       "      <th>association</th>\n",
       "      <th>support_ov</th>\n",
       "      <th>support_sing</th>\n",
       "      <th>confidence</th>\n",
       "    </tr>\n",
       "  </thead>\n",
       "  <tbody>\n",
       "    <tr>\n",
       "      <th>0</th>\n",
       "      <td>(Java: The Complete Reference, A Beginner’s Gu...</td>\n",
       "      <td>45.0</td>\n",
       "      <td>50.0</td>\n",
       "      <td>90.0</td>\n",
       "    </tr>\n",
       "    <tr>\n",
       "      <th>1</th>\n",
       "      <td>(A Beginner’s Guide, Java: The Complete Refere...</td>\n",
       "      <td>45.0</td>\n",
       "      <td>55.0</td>\n",
       "      <td>82.0</td>\n",
       "    </tr>\n",
       "    <tr>\n",
       "      <th>2</th>\n",
       "      <td>(Java For Dummies, A Beginner’s Guide)</td>\n",
       "      <td>45.0</td>\n",
       "      <td>65.0</td>\n",
       "      <td>69.0</td>\n",
       "    </tr>\n",
       "    <tr>\n",
       "      <th>3</th>\n",
       "      <td>(A Beginner’s Guide, Java For Dummies)</td>\n",
       "      <td>45.0</td>\n",
       "      <td>55.0</td>\n",
       "      <td>82.0</td>\n",
       "    </tr>\n",
       "    <tr>\n",
       "      <th>4</th>\n",
       "      <td>(Java For Dummies, Java: The Complete Reference)</td>\n",
       "      <td>50.0</td>\n",
       "      <td>65.0</td>\n",
       "      <td>77.0</td>\n",
       "    </tr>\n",
       "  </tbody>\n",
       "</table>\n",
       "</div>"
      ],
      "text/plain": [
       "                                         association  support_ov  \\\n",
       "0  (Java: The Complete Reference, A Beginner’s Gu...        45.0   \n",
       "1  (A Beginner’s Guide, Java: The Complete Refere...        45.0   \n",
       "2             (Java For Dummies, A Beginner’s Guide)        45.0   \n",
       "3             (A Beginner’s Guide, Java For Dummies)        45.0   \n",
       "4   (Java For Dummies, Java: The Complete Reference)        50.0   \n",
       "\n",
       "   support_sing  confidence  \n",
       "0          50.0        90.0  \n",
       "1          55.0        82.0  \n",
       "2          65.0        69.0  \n",
       "3          55.0        82.0  \n",
       "4          65.0        77.0  "
      ]
     },
     "execution_count": 200,
     "metadata": {},
     "output_type": "execute_result"
    }
   ],
   "source": [
    "df_frames = []\n",
    "for lp in range(1,max(df_supp[\"k_val\"])+1):\n",
    "    print(lp)\n",
    "    df_0 = confidence(lp)\n",
    "    df_0 = df_0[df_0.support_sing != 0]\n",
    "    df_frames.append(df_0)\n",
    "    \n",
    "df_associations = pd.concat(df_frames)\n",
    "df_associations.head()"
   ]
  },
  {
   "cell_type": "markdown",
   "metadata": {},
   "source": [
    "###### Concat the dataframes"
   ]
  },
  {
   "cell_type": "code",
   "execution_count": null,
   "metadata": {},
   "outputs": [],
   "source": [
    "df_associations = pd.concat(df_frames)\n",
    "df_associations.head()"
   ]
  },
  {
   "cell_type": "markdown",
   "metadata": {},
   "source": [
    "##### Making sure that user parameters are met for confidence"
   ]
  },
  {
   "cell_type": "code",
   "execution_count": 202,
   "metadata": {},
   "outputs": [],
   "source": [
    "df_associations = df_associations[df_associations['confidence'] >= confidence_percent]"
   ]
  },
  {
   "cell_type": "code",
   "execution_count": 203,
   "metadata": {},
   "outputs": [
    {
     "data": {
      "text/html": [
       "<div>\n",
       "<style scoped>\n",
       "    .dataframe tbody tr th:only-of-type {\n",
       "        vertical-align: middle;\n",
       "    }\n",
       "\n",
       "    .dataframe tbody tr th {\n",
       "        vertical-align: top;\n",
       "    }\n",
       "\n",
       "    .dataframe thead th {\n",
       "        text-align: right;\n",
       "    }\n",
       "</style>\n",
       "<table border=\"1\" class=\"dataframe\">\n",
       "  <thead>\n",
       "    <tr style=\"text-align: right;\">\n",
       "      <th></th>\n",
       "      <th>association</th>\n",
       "      <th>support_ov</th>\n",
       "      <th>support_sing</th>\n",
       "      <th>confidence</th>\n",
       "    </tr>\n",
       "  </thead>\n",
       "  <tbody>\n",
       "    <tr>\n",
       "      <th>0</th>\n",
       "      <td>(Java: The Complete Reference, A Beginner’s Gu...</td>\n",
       "      <td>45.0</td>\n",
       "      <td>50.0</td>\n",
       "      <td>90.0</td>\n",
       "    </tr>\n",
       "    <tr>\n",
       "      <th>1</th>\n",
       "      <td>(A Beginner’s Guide, Java: The Complete Refere...</td>\n",
       "      <td>45.0</td>\n",
       "      <td>55.0</td>\n",
       "      <td>82.0</td>\n",
       "    </tr>\n",
       "    <tr>\n",
       "      <th>2</th>\n",
       "      <td>(Java For Dummies, A Beginner’s Guide)</td>\n",
       "      <td>45.0</td>\n",
       "      <td>65.0</td>\n",
       "      <td>69.0</td>\n",
       "    </tr>\n",
       "    <tr>\n",
       "      <th>3</th>\n",
       "      <td>(A Beginner’s Guide, Java For Dummies)</td>\n",
       "      <td>45.0</td>\n",
       "      <td>55.0</td>\n",
       "      <td>82.0</td>\n",
       "    </tr>\n",
       "    <tr>\n",
       "      <th>4</th>\n",
       "      <td>(Java For Dummies, Java: The Complete Reference)</td>\n",
       "      <td>50.0</td>\n",
       "      <td>65.0</td>\n",
       "      <td>77.0</td>\n",
       "    </tr>\n",
       "  </tbody>\n",
       "</table>\n",
       "</div>"
      ],
      "text/plain": [
       "                                         association  support_ov  \\\n",
       "0  (Java: The Complete Reference, A Beginner’s Gu...        45.0   \n",
       "1  (A Beginner’s Guide, Java: The Complete Refere...        45.0   \n",
       "2             (Java For Dummies, A Beginner’s Guide)        45.0   \n",
       "3             (A Beginner’s Guide, Java For Dummies)        45.0   \n",
       "4   (Java For Dummies, Java: The Complete Reference)        50.0   \n",
       "\n",
       "   support_sing  confidence  \n",
       "0          50.0        90.0  \n",
       "1          55.0        82.0  \n",
       "2          65.0        69.0  \n",
       "3          55.0        82.0  \n",
       "4          65.0        77.0  "
      ]
     },
     "execution_count": 203,
     "metadata": {},
     "output_type": "execute_result"
    }
   ],
   "source": [
    "df_associations.head()"
   ]
  },
  {
   "cell_type": "markdown",
   "metadata": {},
   "source": [
    "##### Formatting the dataframe final"
   ]
  },
  {
   "cell_type": "code",
   "execution_count": 204,
   "metadata": {},
   "outputs": [],
   "source": [
    "df_final = df_associations.reset_index().drop(['index','support_sing'],axis=1)\n",
    "df_final.columns = [\"Association\",\"Support\",\"Confidence\"]"
   ]
  },
  {
   "cell_type": "code",
   "execution_count": 205,
   "metadata": {},
   "outputs": [
    {
     "data": {
      "text/html": [
       "<div>\n",
       "<style scoped>\n",
       "    .dataframe tbody tr th:only-of-type {\n",
       "        vertical-align: middle;\n",
       "    }\n",
       "\n",
       "    .dataframe tbody tr th {\n",
       "        vertical-align: top;\n",
       "    }\n",
       "\n",
       "    .dataframe thead th {\n",
       "        text-align: right;\n",
       "    }\n",
       "</style>\n",
       "<table border=\"1\" class=\"dataframe\">\n",
       "  <thead>\n",
       "    <tr style=\"text-align: right;\">\n",
       "      <th></th>\n",
       "      <th>Association</th>\n",
       "      <th>Support</th>\n",
       "      <th>Confidence</th>\n",
       "    </tr>\n",
       "  </thead>\n",
       "  <tbody>\n",
       "    <tr>\n",
       "      <th>0</th>\n",
       "      <td>(Java: The Complete Reference, A Beginner’s Gu...</td>\n",
       "      <td>45.0</td>\n",
       "      <td>90.0</td>\n",
       "    </tr>\n",
       "    <tr>\n",
       "      <th>1</th>\n",
       "      <td>(A Beginner’s Guide, Java: The Complete Refere...</td>\n",
       "      <td>45.0</td>\n",
       "      <td>82.0</td>\n",
       "    </tr>\n",
       "    <tr>\n",
       "      <th>2</th>\n",
       "      <td>(Java For Dummies, A Beginner’s Guide)</td>\n",
       "      <td>45.0</td>\n",
       "      <td>69.0</td>\n",
       "    </tr>\n",
       "    <tr>\n",
       "      <th>3</th>\n",
       "      <td>(A Beginner’s Guide, Java For Dummies)</td>\n",
       "      <td>45.0</td>\n",
       "      <td>82.0</td>\n",
       "    </tr>\n",
       "    <tr>\n",
       "      <th>4</th>\n",
       "      <td>(Java For Dummies, Java: The Complete Reference)</td>\n",
       "      <td>50.0</td>\n",
       "      <td>77.0</td>\n",
       "    </tr>\n",
       "    <tr>\n",
       "      <th>5</th>\n",
       "      <td>(Java: The Complete Reference, Java For Dummies)</td>\n",
       "      <td>50.0</td>\n",
       "      <td>100.0</td>\n",
       "    </tr>\n",
       "    <tr>\n",
       "      <th>6</th>\n",
       "      <td>(Java For Dummies, Android Programming: The Bi...</td>\n",
       "      <td>45.0</td>\n",
       "      <td>69.0</td>\n",
       "    </tr>\n",
       "    <tr>\n",
       "      <th>7</th>\n",
       "      <td>(Android Programming: The Big Nerd Ranch, Java...</td>\n",
       "      <td>45.0</td>\n",
       "      <td>69.0</td>\n",
       "    </tr>\n",
       "    <tr>\n",
       "      <th>8</th>\n",
       "      <td>(Java For Dummies, A Beginner’s Guide, Java: T...</td>\n",
       "      <td>45.0</td>\n",
       "      <td>100.0</td>\n",
       "    </tr>\n",
       "    <tr>\n",
       "      <th>9</th>\n",
       "      <td>(Java: The Complete Reference, A Beginner’s Gu...</td>\n",
       "      <td>45.0</td>\n",
       "      <td>100.0</td>\n",
       "    </tr>\n",
       "    <tr>\n",
       "      <th>10</th>\n",
       "      <td>(A Beginner’s Guide, Java For Dummies, Java: T...</td>\n",
       "      <td>45.0</td>\n",
       "      <td>100.0</td>\n",
       "    </tr>\n",
       "    <tr>\n",
       "      <th>11</th>\n",
       "      <td>(A Beginner’s Guide, Java: The Complete Refere...</td>\n",
       "      <td>45.0</td>\n",
       "      <td>100.0</td>\n",
       "    </tr>\n",
       "  </tbody>\n",
       "</table>\n",
       "</div>"
      ],
      "text/plain": [
       "                                          Association  Support  Confidence\n",
       "0   (Java: The Complete Reference, A Beginner’s Gu...     45.0        90.0\n",
       "1   (A Beginner’s Guide, Java: The Complete Refere...     45.0        82.0\n",
       "2              (Java For Dummies, A Beginner’s Guide)     45.0        69.0\n",
       "3              (A Beginner’s Guide, Java For Dummies)     45.0        82.0\n",
       "4    (Java For Dummies, Java: The Complete Reference)     50.0        77.0\n",
       "5    (Java: The Complete Reference, Java For Dummies)     50.0       100.0\n",
       "6   (Java For Dummies, Android Programming: The Bi...     45.0        69.0\n",
       "7   (Android Programming: The Big Nerd Ranch, Java...     45.0        69.0\n",
       "8   (Java For Dummies, A Beginner’s Guide, Java: T...     45.0       100.0\n",
       "9   (Java: The Complete Reference, A Beginner’s Gu...     45.0       100.0\n",
       "10  (A Beginner’s Guide, Java For Dummies, Java: T...     45.0       100.0\n",
       "11  (A Beginner’s Guide, Java: The Complete Refere...     45.0       100.0"
      ]
     },
     "execution_count": 205,
     "metadata": {},
     "output_type": "execute_result"
    }
   ],
   "source": [
    "df_final"
   ]
  },
  {
   "cell_type": "code",
   "execution_count": null,
   "metadata": {},
   "outputs": [],
   "source": []
  }
 ],
 "metadata": {
  "kernelspec": {
   "display_name": "Python 3",
   "language": "python",
   "name": "python3"
  },
  "language_info": {
   "codemirror_mode": {
    "name": "ipython",
    "version": 3
   },
   "file_extension": ".py",
   "mimetype": "text/x-python",
   "name": "python",
   "nbconvert_exporter": "python",
   "pygments_lexer": "ipython3",
   "version": "3.8.5"
  }
 },
 "nbformat": 4,
 "nbformat_minor": 4
}
